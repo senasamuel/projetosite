{
  "nbformat": 4,
  "nbformat_minor": 0,
  "metadata": {
    "colab": {
      "name": "Untitled2.ipynb",
      "provenance": [],
      "authorship_tag": "ABX9TyN/gAZXeaEJfAR0MvCy8Zeu",
      "include_colab_link": true
    },
    "kernelspec": {
      "name": "python3",
      "display_name": "Python 3"
    }
  },
  "cells": [
    {
      "cell_type": "markdown",
      "metadata": {
        "id": "view-in-github",
        "colab_type": "text"
      },
      "source": [
        "<a href=\"https://colab.research.google.com/github/senasamuel/projetosite/blob/master/Untitled2.ipynb\" target=\"_parent\"><img src=\"https://colab.research.google.com/assets/colab-badge.svg\" alt=\"Open In Colab\"/></a>"
      ]
    },
    {
      "cell_type": "code",
      "metadata": {
        "id": "jaghKngA-ciF",
        "colab_type": "code",
        "outputId": "6754e8ed-1f9d-4ba4-8459-26d429f82a21",
        "colab": {
          "base_uri": "https://localhost:8080/",
          "height": 34
        }
      },
      "source": [
        "5*5\n",
        "\n",
        "5*1"
      ],
      "execution_count": 0,
      "outputs": [
        {
          "output_type": "execute_result",
          "data": {
            "text/plain": [
              "5"
            ]
          },
          "metadata": {
            "tags": []
          },
          "execution_count": 8
        }
      ]
    },
    {
      "cell_type": "code",
      "metadata": {
        "id": "-xyYGgkW-qYX",
        "colab_type": "code",
        "outputId": "7e2186a1-7618-4f31-c9b1-7e744b2e5591",
        "colab": {
          "base_uri": "https://localhost:8080/",
          "height": 34
        }
      },
      "source": [
        "( 5**10)* (7/8)+4"
      ],
      "execution_count": 0,
      "outputs": [
        {
          "output_type": "execute_result",
          "data": {
            "text/plain": [
              "8544925.875"
            ]
          },
          "metadata": {
            "tags": []
          },
          "execution_count": 9
        }
      ]
    },
    {
      "cell_type": "code",
      "metadata": {
        "id": "AzAOSQnX_gWP",
        "colab_type": "code",
        "colab": {}
      },
      "source": [
        "idade=35"
      ],
      "execution_count": 0,
      "outputs": []
    },
    {
      "cell_type": "code",
      "metadata": {
        "id": "drjSxsI4_w_m",
        "colab_type": "code",
        "outputId": "a41e7397-8710-4b5d-ddb0-b98da88690ef",
        "colab": {
          "base_uri": "https://localhost:8080/",
          "height": 34
        }
      },
      "source": [
        "print('minha idade {}',format(idade))"
      ],
      "execution_count": 0,
      "outputs": [
        {
          "output_type": "stream",
          "text": [
            "minha idade {} 35\n"
          ],
          "name": "stdout"
        }
      ]
    },
    {
      "cell_type": "code",
      "metadata": {
        "id": "Tb4S4gnzAAVP",
        "colab_type": "code",
        "colab": {}
      },
      "source": [
        "import numpy as np\n",
        "import matplotlib.pyplot as plt\n",
        "\n",
        "\n"
      ],
      "execution_count": 0,
      "outputs": []
    },
    {
      "cell_type": "code",
      "metadata": {
        "id": "KotHzEK4BECH",
        "colab_type": "code",
        "outputId": "08d2a21c-9f17-49cf-e31e-4b2c7b486428",
        "colab": {
          "base_uri": "https://localhost:8080/",
          "height": 282
        }
      },
      "source": [
        "ys = 200 + np.random.randn(100)\n",
        "x = [x for x in range(len(ys))]\n",
        "\n",
        "\n",
        "plt.plot(x,ys)"
      ],
      "execution_count": 0,
      "outputs": [
        {
          "output_type": "execute_result",
          "data": {
            "text/plain": [
              "[<matplotlib.lines.Line2D at 0x7f7e98b7a4e0>]"
            ]
          },
          "metadata": {
            "tags": []
          },
          "execution_count": 21
        },
        {
          "output_type": "display_data",
          "data": {
            "image/png": "[encoded data removed]",
            "text/plain": [
              "<Figure size 432x288 with 1 Axes>"
            ]
          },
          "metadata": {
            "tags": [],
            "needs_background": "light"
          }
        }
      ]
    },
    {
      "cell_type": "markdown",
      "metadata": {
        "id": "8OUDBnOBBDzh",
        "colab_type": "text"
      },
      "source": [
        ""
      ]
    },
    {
      "cell_type": "code",
      "metadata": {
        "id": "bQtkJj4aB9gG",
        "colab_type": "code",
        "outputId": "b6e5a7a9-45d9-4d7c-9537-757239f74508",
        "colab": {
          "base_uri": "https://localhost:8080/",
          "height": 282
        }
      },
      "source": [
        "plt.plot(x,ys)\n",
        "plt.fill_between(x, ys, 195,where=(ys>195),facecolor='g',alpha=0.6)"
      ],
      "execution_count": 0,
      "outputs": [
        {
          "output_type": "execute_result",
          "data": {
            "text/plain": [
              "<matplotlib.collections.PolyCollection at 0x7f7e98ea2780>"
            ]
          },
          "metadata": {
            "tags": []
          },
          "execution_count": 22
        },
        {
          "output_type": "display_data",
          "data": {
            "image/png": "[encoded data removed]",
            "text/plain": [
              "<Figure size 432x288 with 1 Axes>"
            ]
          },
          "metadata": {
            "tags": [],
            "needs_background": "light"
          }
        }
      ]
    },
    {
      "cell_type": "code",
      "metadata": {
        "id": "_4hsw8AED1kF",
        "colab_type": "code",
        "colab": {}
      },
      "source": [
        "import pandas as pd"
      ],
      "execution_count": 0,
      "outputs": []
    },
    {
      "cell_type": "code",
      "metadata": {
        "id": "1BzCgubzOnbY",
        "colab_type": "code",
        "colab": {}
      },
      "source": [
        "df=pd.read_csv('/content/acidentes_sp_clean.csv')"
      ],
      "execution_count": 0,
      "outputs": []
    },
    {
      "cell_type": "code",
      "metadata": {
        "id": "EgBgRAPzO_0V",
        "colab_type": "code",
        "outputId": "f19e36be-1b34-4cbb-d3ad-c0e0c4dc107f",
        "colab": {
          "base_uri": "https://localhost:8080/",
          "height": 677
        }
      },
      "source": [
        "df"
      ],
      "execution_count": 0,
      "outputs": [
        {
          "output_type": "execute_result",
          "data": {
            "text/html": [
              "<div>\n",
              "<style scoped>\n",
              "    .dataframe tbody tr th:only-of-type {\n",
              "        vertical-align: middle;\n",
              "    }\n",
              "\n",
              "    .dataframe tbody tr th {\n",
              "        vertical-align: top;\n",
              "    }\n",
              "\n",
              "    .dataframe thead th {\n",
              "        text-align: right;\n",
              "    }\n",
              "</style>\n",
              "<table border=\"1\" class=\"dataframe\">\n",
              "  <thead>\n",
              "    <tr style=\"text-align: right;\">\n",
              "      <th></th>\n",
              "      <th>Id da Delegacia (RDO)</th>\n",
              "      <th>Número do Bo (RDO)</th>\n",
              "      <th>Ano do BO (RDO)</th>\n",
              "      <th>Data do Óbito</th>\n",
              "      <th>Data do Acidente</th>\n",
              "      <th>Tipo de via</th>\n",
              "      <th>Dia do óbito</th>\n",
              "      <th>Mês do Óbito</th>\n",
              "      <th>Mês Óbito Descrição</th>\n",
              "      <th>Ano do Óbito</th>\n",
              "      <th>Ano/Mês do Óbito</th>\n",
              "      <th>Dia da Semana</th>\n",
              "      <th>Hora do Acidente</th>\n",
              "      <th>Turno</th>\n",
              "      <th>Município</th>\n",
              "      <th>Região Administrativa</th>\n",
              "      <th>Logradouro</th>\n",
              "      <th>Númeral / KM</th>\n",
              "      <th>Jurisdição</th>\n",
              "      <th>Administração</th>\n",
              "      <th>Conservação</th>\n",
              "      <th>Tipo do local da ocorrência</th>\n",
              "      <th>LAT_(GEO)</th>\n",
              "      <th>LONG_(GEO)</th>\n",
              "      <th>Tipo do veículo da vítima</th>\n",
              "      <th>Tipo de vítima</th>\n",
              "      <th>Local do óbito</th>\n",
              "      <th>Tipo de acidente</th>\n",
              "      <th>Sub Tipo do Acidente</th>\n",
              "      <th>Tempo entre o Acidente e o óbito</th>\n",
              "      <th>Sexo</th>\n",
              "      <th>Faixa etária</th>\n",
              "      <th>Idade da vítima</th>\n",
              "      <th>Outro Veículo Envolvido</th>\n",
              "    </tr>\n",
              "  </thead>\n",
              "  <tbody>\n",
              "    <tr>\n",
              "      <th>0</th>\n",
              "      <td>120514</td>\n",
              "      <td>889</td>\n",
              "      <td>2020</td>\n",
              "      <td>2020-04-30</td>\n",
              "      <td>2020-04-30</td>\n",
              "      <td>Rodovias</td>\n",
              "      <td>30</td>\n",
              "      <td>4</td>\n",
              "      <td>ABRIL</td>\n",
              "      <td>2020</td>\n",
              "      <td>2020.04</td>\n",
              "      <td>QUINTA</td>\n",
              "      <td>17:30:00</td>\n",
              "      <td>TARDE</td>\n",
              "      <td>ARACARIGUAMA</td>\n",
              "      <td>Sorocaba</td>\n",
              "      <td>SP 280</td>\n",
              "      <td>50,0</td>\n",
              "      <td>ESTADUAL</td>\n",
              "      <td>CONCESSIONÁRIA</td>\n",
              "      <td>VIAOESTE</td>\n",
              "      <td>PUBLICO</td>\n",
              "      <td>-23.439186</td>\n",
              "      <td>-47.065945</td>\n",
              "      <td>ONIBUS</td>\n",
              "      <td>CONDUTOR</td>\n",
              "      <td>VIA</td>\n",
              "      <td>CHOQUE</td>\n",
              "      <td>VEÍCULO ESTACIONADO</td>\n",
              "      <td>Mesmo dia</td>\n",
              "      <td>MASCULINO</td>\n",
              "      <td>45-49</td>\n",
              "      <td>48.0</td>\n",
              "      <td>ONIBUS</td>\n",
              "    </tr>\n",
              "    <tr>\n",
              "      <th>1</th>\n",
              "      <td>120514</td>\n",
              "      <td>889</td>\n",
              "      <td>2020</td>\n",
              "      <td>2020-04-30</td>\n",
              "      <td>2020-04-30</td>\n",
              "      <td>Rodovias</td>\n",
              "      <td>30</td>\n",
              "      <td>4</td>\n",
              "      <td>ABRIL</td>\n",
              "      <td>2020</td>\n",
              "      <td>2020.04</td>\n",
              "      <td>QUINTA</td>\n",
              "      <td>17:30:00</td>\n",
              "      <td>TARDE</td>\n",
              "      <td>ARACARIGUAMA</td>\n",
              "      <td>Sorocaba</td>\n",
              "      <td>SP 280</td>\n",
              "      <td>50,0</td>\n",
              "      <td>ESTADUAL</td>\n",
              "      <td>CONCESSIONÁRIA</td>\n",
              "      <td>VIAOESTE</td>\n",
              "      <td>PUBLICO</td>\n",
              "      <td>-23.439186</td>\n",
              "      <td>-47.065945</td>\n",
              "      <td>ONIBUS</td>\n",
              "      <td>PASSAGEIRO</td>\n",
              "      <td>ESTABELECIMENTO DE SAUDE</td>\n",
              "      <td>CHOQUE</td>\n",
              "      <td>VEÍCULO ESTACIONADO</td>\n",
              "      <td>Mesmo dia</td>\n",
              "      <td>MASCULINO</td>\n",
              "      <td>35-39</td>\n",
              "      <td>36.0</td>\n",
              "      <td>ONIBUS</td>\n",
              "    </tr>\n",
              "    <tr>\n",
              "      <th>2</th>\n",
              "      <td>110429</td>\n",
              "      <td>3887</td>\n",
              "      <td>2020</td>\n",
              "      <td>2020-04-30</td>\n",
              "      <td>2020-04-17</td>\n",
              "      <td>Rodovias</td>\n",
              "      <td>30</td>\n",
              "      <td>4</td>\n",
              "      <td>ABRIL</td>\n",
              "      <td>2020</td>\n",
              "      <td>2020.04</td>\n",
              "      <td>SEXTA</td>\n",
              "      <td>3:50:00</td>\n",
              "      <td>MADRUGADA</td>\n",
              "      <td>SAO JOSE DO RIO PRETO</td>\n",
              "      <td>São José do Rio Preto</td>\n",
              "      <td>BR 153</td>\n",
              "      <td>57,5</td>\n",
              "      <td>FEDERAL</td>\n",
              "      <td>CONCESSIONÁRIA</td>\n",
              "      <td>TRANSBRASILIANA</td>\n",
              "      <td>PUBLICO</td>\n",
              "      <td>-20.772532</td>\n",
              "      <td>-49.350863</td>\n",
              "      <td>MOTOCICLETA</td>\n",
              "      <td>CONDUTOR</td>\n",
              "      <td>ESTABELECIMENTO DE SAUDE</td>\n",
              "      <td>CHOQUE</td>\n",
              "      <td>DEFENSA / BARREIRA</td>\n",
              "      <td>Até 30 dias</td>\n",
              "      <td>MASCULINO</td>\n",
              "      <td>25-29</td>\n",
              "      <td>26.0</td>\n",
              "      <td>NÃO HÁ</td>\n",
              "    </tr>\n",
              "    <tr>\n",
              "      <th>3</th>\n",
              "      <td>30309</td>\n",
              "      <td>1745</td>\n",
              "      <td>2020</td>\n",
              "      <td>2020-04-30</td>\n",
              "      <td>2020-04-30</td>\n",
              "      <td>Rodovias</td>\n",
              "      <td>30</td>\n",
              "      <td>4</td>\n",
              "      <td>ABRIL</td>\n",
              "      <td>2020</td>\n",
              "      <td>2020.04</td>\n",
              "      <td>QUINTA</td>\n",
              "      <td>18:30:00</td>\n",
              "      <td>NOITE</td>\n",
              "      <td>SUZANO</td>\n",
              "      <td>Metropolitana de São Paulo</td>\n",
              "      <td>SP 021</td>\n",
              "      <td>110,0</td>\n",
              "      <td>ESTADUAL</td>\n",
              "      <td>CONCESSIONÁRIA</td>\n",
              "      <td>SPMAR</td>\n",
              "      <td>PUBLICO</td>\n",
              "      <td>-23.566580</td>\n",
              "      <td>-46.342199</td>\n",
              "      <td>PEDESTRE</td>\n",
              "      <td>PEDESTRE</td>\n",
              "      <td>VIA</td>\n",
              "      <td>ATROPELAMENTO</td>\n",
              "      <td>CRUZANDO A VIA</td>\n",
              "      <td>Mesmo dia</td>\n",
              "      <td>MASCULINO</td>\n",
              "      <td>NAO DISPONIVEL</td>\n",
              "      <td>NaN</td>\n",
              "      <td>AUTOMOVEL</td>\n",
              "    </tr>\n",
              "    <tr>\n",
              "      <th>4</th>\n",
              "      <td>70923</td>\n",
              "      <td>1373</td>\n",
              "      <td>2020</td>\n",
              "      <td>2020-04-30</td>\n",
              "      <td>2020-04-30</td>\n",
              "      <td>Vias Municipais</td>\n",
              "      <td>30</td>\n",
              "      <td>4</td>\n",
              "      <td>ABRIL</td>\n",
              "      <td>2020</td>\n",
              "      <td>2020.04</td>\n",
              "      <td>QUINTA</td>\n",
              "      <td>17:50:00</td>\n",
              "      <td>TARDE</td>\n",
              "      <td>LIMEIRA</td>\n",
              "      <td>Campinas</td>\n",
              "      <td>RUA ITAPEMA</td>\n",
              "      <td>481,0</td>\n",
              "      <td>MUNICIPAL</td>\n",
              "      <td>PREFEITURA</td>\n",
              "      <td>PREFEITURA</td>\n",
              "      <td>PUBLICO</td>\n",
              "      <td>-22.552483</td>\n",
              "      <td>-47.405759</td>\n",
              "      <td>BICICLETA</td>\n",
              "      <td>CONDUTOR</td>\n",
              "      <td>VIA</td>\n",
              "      <td>CHOQUE</td>\n",
              "      <td>MURO/PAREDE/TALUDE</td>\n",
              "      <td>Mesmo dia</td>\n",
              "      <td>FEMININO</td>\n",
              "      <td>30-34</td>\n",
              "      <td>30.0</td>\n",
              "      <td>NÃO HÁ</td>\n",
              "    </tr>\n",
              "    <tr>\n",
              "      <th>...</th>\n",
              "      <td>...</td>\n",
              "      <td>...</td>\n",
              "      <td>...</td>\n",
              "      <td>...</td>\n",
              "      <td>...</td>\n",
              "      <td>...</td>\n",
              "      <td>...</td>\n",
              "      <td>...</td>\n",
              "      <td>...</td>\n",
              "      <td>...</td>\n",
              "      <td>...</td>\n",
              "      <td>...</td>\n",
              "      <td>...</td>\n",
              "      <td>...</td>\n",
              "      <td>...</td>\n",
              "      <td>...</td>\n",
              "      <td>...</td>\n",
              "      <td>...</td>\n",
              "      <td>...</td>\n",
              "      <td>...</td>\n",
              "      <td>...</td>\n",
              "      <td>...</td>\n",
              "      <td>...</td>\n",
              "      <td>...</td>\n",
              "      <td>...</td>\n",
              "      <td>...</td>\n",
              "      <td>...</td>\n",
              "      <td>...</td>\n",
              "      <td>...</td>\n",
              "      <td>...</td>\n",
              "      <td>...</td>\n",
              "      <td>...</td>\n",
              "      <td>...</td>\n",
              "      <td>...</td>\n",
              "    </tr>\n",
              "    <tr>\n",
              "      <th>30566</th>\n",
              "      <td>100919</td>\n",
              "      <td>20</td>\n",
              "      <td>2015</td>\n",
              "      <td>2015-01-01</td>\n",
              "      <td>2015-01-01</td>\n",
              "      <td>Rodovias</td>\n",
              "      <td>1</td>\n",
              "      <td>1</td>\n",
              "      <td>JANEIRO</td>\n",
              "      <td>2015</td>\n",
              "      <td>2015.01</td>\n",
              "      <td>QUINTA</td>\n",
              "      <td>5:50:00</td>\n",
              "      <td>MADRUGADA</td>\n",
              "      <td>RIBEIRAO PRETO</td>\n",
              "      <td>Ribeirão Preto</td>\n",
              "      <td>SP 333</td>\n",
              "      <td>47,0</td>\n",
              "      <td>ESTADUAL</td>\n",
              "      <td>DER</td>\n",
              "      <td>DR08 - Ribeirão Preto</td>\n",
              "      <td>PUBLICO</td>\n",
              "      <td>-21.208110</td>\n",
              "      <td>-47.681119</td>\n",
              "      <td>PEDESTRE</td>\n",
              "      <td>PEDESTRE</td>\n",
              "      <td>VIA</td>\n",
              "      <td>ATROPELAMENTO</td>\n",
              "      <td>NaN</td>\n",
              "      <td>Mesmo dia</td>\n",
              "      <td>MASCULINO</td>\n",
              "      <td>25-29</td>\n",
              "      <td>27.0</td>\n",
              "      <td>NaN</td>\n",
              "    </tr>\n",
              "    <tr>\n",
              "      <th>30567</th>\n",
              "      <td>110714</td>\n",
              "      <td>2</td>\n",
              "      <td>2015</td>\n",
              "      <td>2015-01-01</td>\n",
              "      <td>2015-01-01</td>\n",
              "      <td>Rodovias</td>\n",
              "      <td>1</td>\n",
              "      <td>1</td>\n",
              "      <td>JANEIRO</td>\n",
              "      <td>2015</td>\n",
              "      <td>2015.01</td>\n",
              "      <td>QUINTA</td>\n",
              "      <td>3:00:00</td>\n",
              "      <td>MADRUGADA</td>\n",
              "      <td>NOVO HORIZONTE</td>\n",
              "      <td>São José do Rio Preto</td>\n",
              "      <td>SP 321</td>\n",
              "      <td>NAO DISPONIVEL</td>\n",
              "      <td>ESTADUAL</td>\n",
              "      <td>DER</td>\n",
              "      <td>DR09 - São José do Rio Preto</td>\n",
              "      <td>PUBLICO</td>\n",
              "      <td>-21.469984</td>\n",
              "      <td>-49.217659</td>\n",
              "      <td>AUTOMOVEL</td>\n",
              "      <td>CONDUTOR</td>\n",
              "      <td>VIA</td>\n",
              "      <td>CHOQUE</td>\n",
              "      <td>NaN</td>\n",
              "      <td>Mesmo dia</td>\n",
              "      <td>NAO DISPONIVEL</td>\n",
              "      <td>18-24</td>\n",
              "      <td>24.0</td>\n",
              "      <td>NaN</td>\n",
              "    </tr>\n",
              "    <tr>\n",
              "      <th>30568</th>\n",
              "      <td>110714</td>\n",
              "      <td>2</td>\n",
              "      <td>2015</td>\n",
              "      <td>2015-01-01</td>\n",
              "      <td>2015-01-01</td>\n",
              "      <td>Rodovias</td>\n",
              "      <td>1</td>\n",
              "      <td>1</td>\n",
              "      <td>JANEIRO</td>\n",
              "      <td>2015</td>\n",
              "      <td>2015.01</td>\n",
              "      <td>QUINTA</td>\n",
              "      <td>3:00:00</td>\n",
              "      <td>MADRUGADA</td>\n",
              "      <td>NOVO HORIZONTE</td>\n",
              "      <td>São José do Rio Preto</td>\n",
              "      <td>SP 321</td>\n",
              "      <td>NAO DISPONIVEL</td>\n",
              "      <td>ESTADUAL</td>\n",
              "      <td>DER</td>\n",
              "      <td>DR09 - São José do Rio Preto</td>\n",
              "      <td>PUBLICO</td>\n",
              "      <td>-21.469984</td>\n",
              "      <td>-49.217659</td>\n",
              "      <td>AUTOMOVEL</td>\n",
              "      <td>PASSAGEIRO</td>\n",
              "      <td>VIA</td>\n",
              "      <td>CHOQUE</td>\n",
              "      <td>NaN</td>\n",
              "      <td>Mesmo dia</td>\n",
              "      <td>NAO DISPONIVEL</td>\n",
              "      <td>18-24</td>\n",
              "      <td>19.0</td>\n",
              "      <td>NaN</td>\n",
              "    </tr>\n",
              "    <tr>\n",
              "      <th>30569</th>\n",
              "      <td>42428</td>\n",
              "      <td>30</td>\n",
              "      <td>2015</td>\n",
              "      <td>2015-01-01</td>\n",
              "      <td>2015-01-01</td>\n",
              "      <td>Rodovias</td>\n",
              "      <td>1</td>\n",
              "      <td>1</td>\n",
              "      <td>JANEIRO</td>\n",
              "      <td>2015</td>\n",
              "      <td>2015.01</td>\n",
              "      <td>QUINTA</td>\n",
              "      <td>19:00:00</td>\n",
              "      <td>NOITE</td>\n",
              "      <td>ITANHAEM</td>\n",
              "      <td>Baixada Santista</td>\n",
              "      <td>SP 055</td>\n",
              "      <td>321,0</td>\n",
              "      <td>ESTADUAL</td>\n",
              "      <td>DER</td>\n",
              "      <td>DR05 - Cubatão</td>\n",
              "      <td>PUBLICO</td>\n",
              "      <td>-24.166345</td>\n",
              "      <td>-46.763124</td>\n",
              "      <td>PEDESTRE</td>\n",
              "      <td>PEDESTRE</td>\n",
              "      <td>VIA</td>\n",
              "      <td>ATROPELAMENTO</td>\n",
              "      <td>NaN</td>\n",
              "      <td>Mesmo dia</td>\n",
              "      <td>MASCULINO</td>\n",
              "      <td>45-49</td>\n",
              "      <td>45.0</td>\n",
              "      <td>NaN</td>\n",
              "    </tr>\n",
              "    <tr>\n",
              "      <th>30570</th>\n",
              "      <td>30407</td>\n",
              "      <td>8</td>\n",
              "      <td>2015</td>\n",
              "      <td>2015-01-01</td>\n",
              "      <td>2015-01-01</td>\n",
              "      <td>Rodovias</td>\n",
              "      <td>1</td>\n",
              "      <td>1</td>\n",
              "      <td>JANEIRO</td>\n",
              "      <td>2015</td>\n",
              "      <td>2015.01</td>\n",
              "      <td>QUINTA</td>\n",
              "      <td>14:00:00</td>\n",
              "      <td>TARDE</td>\n",
              "      <td>SAO PAULO</td>\n",
              "      <td>Metropolitana de São Paulo</td>\n",
              "      <td>SP 280</td>\n",
              "      <td>35,0</td>\n",
              "      <td>ESTADUAL</td>\n",
              "      <td>CONCESSIONÁRIA</td>\n",
              "      <td>VIAOESTE</td>\n",
              "      <td>PUBLICO</td>\n",
              "      <td>-23.515094</td>\n",
              "      <td>-46.964117</td>\n",
              "      <td>AUTOMOVEL</td>\n",
              "      <td>CONDUTOR</td>\n",
              "      <td>ESTABELECIMENTO DE SAUDE</td>\n",
              "      <td>CHOQUE</td>\n",
              "      <td>NaN</td>\n",
              "      <td>Mesmo dia</td>\n",
              "      <td>MASCULINO</td>\n",
              "      <td>18-24</td>\n",
              "      <td>23.0</td>\n",
              "      <td>NaN</td>\n",
              "    </tr>\n",
              "  </tbody>\n",
              "</table>\n",
              "<p>30571 rows × 34 columns</p>\n",
              "</div>"
            ],
            "text/plain": [
              "       Id da Delegacia (RDO)  ...  Outro Veículo Envolvido\n",
              "0                     120514  ...                   ONIBUS\n",
              "1                     120514  ...                   ONIBUS\n",
              "2                     110429  ...                   NÃO HÁ\n",
              "3                      30309  ...                AUTOMOVEL\n",
              "4                      70923  ...                   NÃO HÁ\n",
              "...                      ...  ...                      ...\n",
              "30566                 100919  ...                      NaN\n",
              "30567                 110714  ...                      NaN\n",
              "30568                 110714  ...                      NaN\n",
              "30569                  42428  ...                      NaN\n",
              "30570                  30407  ...                      NaN\n",
              "\n",
              "[30571 rows x 34 columns]"
            ]
          },
          "metadata": {
            "tags": []
          },
          "execution_count": 26
        }
      ]
    },
    {
      "cell_type": "code",
      "metadata": {
        "id": "-m6H0rD3POEm",
        "colab_type": "code",
        "outputId": "e8d835c7-cdcd-4450-cb3b-7e71f0d98b58",
        "colab": {
          "base_uri": "https://localhost:8080/",
          "height": 377
        }
      },
      "source": [
        "df.head()"
      ],
      "execution_count": 0,
      "outputs": [
        {
          "output_type": "execute_result",
          "data": {
            "text/html": [
              "<div>\n",
              "<style scoped>\n",
              "    .dataframe tbody tr th:only-of-type {\n",
              "        vertical-align: middle;\n",
              "    }\n",
              "\n",
              "    .dataframe tbody tr th {\n",
              "        vertical-align: top;\n",
              "    }\n",
              "\n",
              "    .dataframe thead th {\n",
              "        text-align: right;\n",
              "    }\n",
              "</style>\n",
              "<table border=\"1\" class=\"dataframe\">\n",
              "  <thead>\n",
              "    <tr style=\"text-align: right;\">\n",
              "      <th></th>\n",
              "      <th>Id da Delegacia (RDO)</th>\n",
              "      <th>Número do Bo (RDO)</th>\n",
              "      <th>Ano do BO (RDO)</th>\n",
              "      <th>Data do Óbito</th>\n",
              "      <th>Data do Acidente</th>\n",
              "      <th>Tipo de via</th>\n",
              "      <th>Dia do óbito</th>\n",
              "      <th>Mês do Óbito</th>\n",
              "      <th>Mês Óbito Descrição</th>\n",
              "      <th>Ano do Óbito</th>\n",
              "      <th>Ano/Mês do Óbito</th>\n",
              "      <th>Dia da Semana</th>\n",
              "      <th>Hora do Acidente</th>\n",
              "      <th>Turno</th>\n",
              "      <th>Município</th>\n",
              "      <th>Região Administrativa</th>\n",
              "      <th>Logradouro</th>\n",
              "      <th>Númeral / KM</th>\n",
              "      <th>Jurisdição</th>\n",
              "      <th>Administração</th>\n",
              "      <th>Conservação</th>\n",
              "      <th>Tipo do local da ocorrência</th>\n",
              "      <th>LAT_(GEO)</th>\n",
              "      <th>LONG_(GEO)</th>\n",
              "      <th>Tipo do veículo da vítima</th>\n",
              "      <th>Tipo de vítima</th>\n",
              "      <th>Local do óbito</th>\n",
              "      <th>Tipo de acidente</th>\n",
              "      <th>Sub Tipo do Acidente</th>\n",
              "      <th>Tempo entre o Acidente e o óbito</th>\n",
              "      <th>Sexo</th>\n",
              "      <th>Faixa etária</th>\n",
              "      <th>Idade da vítima</th>\n",
              "      <th>Outro Veículo Envolvido</th>\n",
              "    </tr>\n",
              "  </thead>\n",
              "  <tbody>\n",
              "    <tr>\n",
              "      <th>0</th>\n",
              "      <td>120514</td>\n",
              "      <td>889</td>\n",
              "      <td>2020</td>\n",
              "      <td>2020-04-30</td>\n",
              "      <td>2020-04-30</td>\n",
              "      <td>Rodovias</td>\n",
              "      <td>30</td>\n",
              "      <td>4</td>\n",
              "      <td>ABRIL</td>\n",
              "      <td>2020</td>\n",
              "      <td>2020.04</td>\n",
              "      <td>QUINTA</td>\n",
              "      <td>17:30:00</td>\n",
              "      <td>TARDE</td>\n",
              "      <td>ARACARIGUAMA</td>\n",
              "      <td>Sorocaba</td>\n",
              "      <td>SP 280</td>\n",
              "      <td>50,0</td>\n",
              "      <td>ESTADUAL</td>\n",
              "      <td>CONCESSIONÁRIA</td>\n",
              "      <td>VIAOESTE</td>\n",
              "      <td>PUBLICO</td>\n",
              "      <td>-23.439186</td>\n",
              "      <td>-47.065945</td>\n",
              "      <td>ONIBUS</td>\n",
              "      <td>CONDUTOR</td>\n",
              "      <td>VIA</td>\n",
              "      <td>CHOQUE</td>\n",
              "      <td>VEÍCULO ESTACIONADO</td>\n",
              "      <td>Mesmo dia</td>\n",
              "      <td>MASCULINO</td>\n",
              "      <td>45-49</td>\n",
              "      <td>48.0</td>\n",
              "      <td>ONIBUS</td>\n",
              "    </tr>\n",
              "    <tr>\n",
              "      <th>1</th>\n",
              "      <td>120514</td>\n",
              "      <td>889</td>\n",
              "      <td>2020</td>\n",
              "      <td>2020-04-30</td>\n",
              "      <td>2020-04-30</td>\n",
              "      <td>Rodovias</td>\n",
              "      <td>30</td>\n",
              "      <td>4</td>\n",
              "      <td>ABRIL</td>\n",
              "      <td>2020</td>\n",
              "      <td>2020.04</td>\n",
              "      <td>QUINTA</td>\n",
              "      <td>17:30:00</td>\n",
              "      <td>TARDE</td>\n",
              "      <td>ARACARIGUAMA</td>\n",
              "      <td>Sorocaba</td>\n",
              "      <td>SP 280</td>\n",
              "      <td>50,0</td>\n",
              "      <td>ESTADUAL</td>\n",
              "      <td>CONCESSIONÁRIA</td>\n",
              "      <td>VIAOESTE</td>\n",
              "      <td>PUBLICO</td>\n",
              "      <td>-23.439186</td>\n",
              "      <td>-47.065945</td>\n",
              "      <td>ONIBUS</td>\n",
              "      <td>PASSAGEIRO</td>\n",
              "      <td>ESTABELECIMENTO DE SAUDE</td>\n",
              "      <td>CHOQUE</td>\n",
              "      <td>VEÍCULO ESTACIONADO</td>\n",
              "      <td>Mesmo dia</td>\n",
              "      <td>MASCULINO</td>\n",
              "      <td>35-39</td>\n",
              "      <td>36.0</td>\n",
              "      <td>ONIBUS</td>\n",
              "    </tr>\n",
              "    <tr>\n",
              "      <th>2</th>\n",
              "      <td>110429</td>\n",
              "      <td>3887</td>\n",
              "      <td>2020</td>\n",
              "      <td>2020-04-30</td>\n",
              "      <td>2020-04-17</td>\n",
              "      <td>Rodovias</td>\n",
              "      <td>30</td>\n",
              "      <td>4</td>\n",
              "      <td>ABRIL</td>\n",
              "      <td>2020</td>\n",
              "      <td>2020.04</td>\n",
              "      <td>SEXTA</td>\n",
              "      <td>3:50:00</td>\n",
              "      <td>MADRUGADA</td>\n",
              "      <td>SAO JOSE DO RIO PRETO</td>\n",
              "      <td>São José do Rio Preto</td>\n",
              "      <td>BR 153</td>\n",
              "      <td>57,5</td>\n",
              "      <td>FEDERAL</td>\n",
              "      <td>CONCESSIONÁRIA</td>\n",
              "      <td>TRANSBRASILIANA</td>\n",
              "      <td>PUBLICO</td>\n",
              "      <td>-20.772532</td>\n",
              "      <td>-49.350863</td>\n",
              "      <td>MOTOCICLETA</td>\n",
              "      <td>CONDUTOR</td>\n",
              "      <td>ESTABELECIMENTO DE SAUDE</td>\n",
              "      <td>CHOQUE</td>\n",
              "      <td>DEFENSA / BARREIRA</td>\n",
              "      <td>Até 30 dias</td>\n",
              "      <td>MASCULINO</td>\n",
              "      <td>25-29</td>\n",
              "      <td>26.0</td>\n",
              "      <td>NÃO HÁ</td>\n",
              "    </tr>\n",
              "    <tr>\n",
              "      <th>3</th>\n",
              "      <td>30309</td>\n",
              "      <td>1745</td>\n",
              "      <td>2020</td>\n",
              "      <td>2020-04-30</td>\n",
              "      <td>2020-04-30</td>\n",
              "      <td>Rodovias</td>\n",
              "      <td>30</td>\n",
              "      <td>4</td>\n",
              "      <td>ABRIL</td>\n",
              "      <td>2020</td>\n",
              "      <td>2020.04</td>\n",
              "      <td>QUINTA</td>\n",
              "      <td>18:30:00</td>\n",
              "      <td>NOITE</td>\n",
              "      <td>SUZANO</td>\n",
              "      <td>Metropolitana de São Paulo</td>\n",
              "      <td>SP 021</td>\n",
              "      <td>110,0</td>\n",
              "      <td>ESTADUAL</td>\n",
              "      <td>CONCESSIONÁRIA</td>\n",
              "      <td>SPMAR</td>\n",
              "      <td>PUBLICO</td>\n",
              "      <td>-23.566580</td>\n",
              "      <td>-46.342199</td>\n",
              "      <td>PEDESTRE</td>\n",
              "      <td>PEDESTRE</td>\n",
              "      <td>VIA</td>\n",
              "      <td>ATROPELAMENTO</td>\n",
              "      <td>CRUZANDO A VIA</td>\n",
              "      <td>Mesmo dia</td>\n",
              "      <td>MASCULINO</td>\n",
              "      <td>NAO DISPONIVEL</td>\n",
              "      <td>NaN</td>\n",
              "      <td>AUTOMOVEL</td>\n",
              "    </tr>\n",
              "    <tr>\n",
              "      <th>4</th>\n",
              "      <td>70923</td>\n",
              "      <td>1373</td>\n",
              "      <td>2020</td>\n",
              "      <td>2020-04-30</td>\n",
              "      <td>2020-04-30</td>\n",
              "      <td>Vias Municipais</td>\n",
              "      <td>30</td>\n",
              "      <td>4</td>\n",
              "      <td>ABRIL</td>\n",
              "      <td>2020</td>\n",
              "      <td>2020.04</td>\n",
              "      <td>QUINTA</td>\n",
              "      <td>17:50:00</td>\n",
              "      <td>TARDE</td>\n",
              "      <td>LIMEIRA</td>\n",
              "      <td>Campinas</td>\n",
              "      <td>RUA ITAPEMA</td>\n",
              "      <td>481,0</td>\n",
              "      <td>MUNICIPAL</td>\n",
              "      <td>PREFEITURA</td>\n",
              "      <td>PREFEITURA</td>\n",
              "      <td>PUBLICO</td>\n",
              "      <td>-22.552483</td>\n",
              "      <td>-47.405759</td>\n",
              "      <td>BICICLETA</td>\n",
              "      <td>CONDUTOR</td>\n",
              "      <td>VIA</td>\n",
              "      <td>CHOQUE</td>\n",
              "      <td>MURO/PAREDE/TALUDE</td>\n",
              "      <td>Mesmo dia</td>\n",
              "      <td>FEMININO</td>\n",
              "      <td>30-34</td>\n",
              "      <td>30.0</td>\n",
              "      <td>NÃO HÁ</td>\n",
              "    </tr>\n",
              "  </tbody>\n",
              "</table>\n",
              "</div>"
            ],
            "text/plain": [
              "   Id da Delegacia (RDO)  ...  Outro Veículo Envolvido\n",
              "0                 120514  ...                   ONIBUS\n",
              "1                 120514  ...                   ONIBUS\n",
              "2                 110429  ...                   NÃO HÁ\n",
              "3                  30309  ...                AUTOMOVEL\n",
              "4                  70923  ...                   NÃO HÁ\n",
              "\n",
              "[5 rows x 34 columns]"
            ]
          },
          "metadata": {
            "tags": []
          },
          "execution_count": 27
        }
      ]
    },
    {
      "cell_type": "code",
      "metadata": {
        "id": "j_zoibabPqI8",
        "colab_type": "code",
        "outputId": "388945e5-6e23-4575-a6c9-b8bcde24b9eb",
        "colab": {
          "base_uri": "https://localhost:8080/",
          "height": 34
        }
      },
      "source": [
        "df.shape"
      ],
      "execution_count": 0,
      "outputs": [
        {
          "output_type": "execute_result",
          "data": {
            "text/plain": [
              "(30571, 34)"
            ]
          },
          "metadata": {
            "tags": []
          },
          "execution_count": 28
        }
      ]
    },
    {
      "cell_type": "code",
      "metadata": {
        "id": "1k4kwVNwP4T9",
        "colab_type": "code",
        "outputId": "71fd73c7-e148-446e-c0f4-1705a94c079d",
        "colab": {
          "base_uri": "https://localhost:8080/",
          "height": 282
        }
      },
      "source": [
        "df['Mês do Óbito'].hist()"
      ],
      "execution_count": 0,
      "outputs": [
        {
          "output_type": "execute_result",
          "data": {
            "text/plain": [
              "<matplotlib.axes._subplots.AxesSubplot at 0x7f7e9656d7f0>"
            ]
          },
          "metadata": {
            "tags": []
          },
          "execution_count": 32
        },
        {
          "output_type": "display_data",
          "data": {
            "image/png": "[encoded data removed]",
            "text/plain": [
              "<Figure size 432x288 with 1 Axes>"
            ]
          },
          "metadata": {
            "tags": [],
            "needs_background": "light"
          }
        }
      ]
    },
    {
      "cell_type": "code",
      "metadata": {
        "id": "EXVax3rJUx8I",
        "colab_type": "code",
        "outputId": "320e6f27-2974-4f7f-da93-3ffd32bdef07",
        "colab": {
          "base_uri": "https://localhost:8080/",
          "height": 221
        }
      },
      "source": [
        "df['Conservação'].unique()"
      ],
      "execution_count": 0,
      "outputs": [
        {
          "output_type": "execute_result",
          "data": {
            "text/plain": [
              "array(['VIAOESTE', 'TRANSBRASILIANA', 'SPMAR', 'PREFEITURA', 'AUTOBAN',\n",
              "       'AUTOPISTA REGIS BITTENCOURT', 'DR10 - São Paulo', 'ENTREVIAS',\n",
              "       'DR05 - Cubatão', 'DR02 - Itapetininga', 'VIAPAULISTA',\n",
              "       'NAO DISPONIVEL', 'TRIÂNGULO DO SOL', 'AUTOPISTA FERNÃO DIAS',\n",
              "       'ECOPISTAS', 'COLINAS', 'ECOVIAS', 'ROTA DAS BANDEIRAS',\n",
              "       'INTERVIAS', 'TAMOIOS', 'DR11 - Araçatuba', 'RODOVIAS DO TIETÊ',\n",
              "       'TEBE', 'DR09 - São José do Rio Preto', 'DR06 - Taubaté', 'CART',\n",
              "       'CENTROVIAS', 'DR01 - Campinas', 'SPVIAS',\n",
              "       'DR12 - Presidente Prudente', 'NOVADUTRA', 'DR07 - Assis',\n",
              "       'DR13 - Rio Claro', 'DR04 - Araraquara', 'DR08 - Ribeirão Preto',\n",
              "       'DR14 - Barretos', 'DR03 - Bauru', 'RENOVIAS', 'VIARONDON',\n",
              "       'CCR RODOANEL', 'DNIT'], dtype=object)"
            ]
          },
          "metadata": {
            "tags": []
          },
          "execution_count": 37
        }
      ]
    },
    {
      "cell_type": "code",
      "metadata": {
        "id": "jYaN-PNwV-Ia",
        "colab_type": "code",
        "outputId": "11ea7ad9-5aeb-4ce4-916e-4fa1e633b0b3",
        "colab": {
          "base_uri": "https://localhost:8080/",
          "height": 119
        }
      },
      "source": [
        "df['Turno'].value _counts()"
      ],
      "execution_count": 0,
      "outputs": [
        {
          "output_type": "execute_result",
          "data": {
            "text/plain": [
              "NOITE             10249\n",
              "TARDE              6551\n",
              "MADRUGADA          5910\n",
              "MANHA              5349\n",
              "NAO DISPONIVEL     2512\n",
              "Name: Turno, dtype: int64"
            ]
          },
          "metadata": {
            "tags": []
          },
          "execution_count": 40
        }
      ]
    },
    {
      "cell_type": "code",
      "metadata": {
        "id": "b9Aru766oQna",
        "colab_type": "code",
        "colab": {}
      },
      "source": [
        "import pandas as pd\n",
        "from pandas_profiling import ProfileReport"
      ],
      "execution_count": 0,
      "outputs": []
    },
    {
      "cell_type": "code",
      "metadata": {
        "id": "QlsQwDKSoZFw",
        "colab_type": "code",
        "outputId": "9840b0dd-58f8-4683-f927-8d2eb52f7410",
        "colab": {
          "base_uri": "https://localhost:8080/",
          "height": 119
        }
      },
      "source": [
        "df['Turno'].value_counts()"
      ],
      "execution_count": 0,
      "outputs": [
        {
          "output_type": "execute_result",
          "data": {
            "text/plain": [
              "NOITE             10249\n",
              "TARDE              6551\n",
              "MADRUGADA          5910\n",
              "MANHA              5349\n",
              "NAO DISPONIVEL     2512\n",
              "Name: Turno, dtype: int64"
            ]
          },
          "metadata": {
            "tags": []
          },
          "execution_count": 49
        }
      ]
    },
    {
      "cell_type": "code",
      "metadata": {
        "id": "yw0IXssPobDk",
        "colab_type": "code",
        "outputId": "2110c6b4-a953-4a04-f131-00b3e4e61346",
        "colab": {
          "base_uri": "https://localhost:8080/",
          "height": 343
        }
      },
      "source": [
        "profile = ProfileReport(df)\n",
        "profile.to_notebook_iframe()"
      ],
      "execution_count": 0,
      "outputs": [
        {
          "output_type": "error",
          "ename": "TypeError",
          "evalue": "ignored",
          "traceback": [
            "\u001b[0;31m---------------------------------------------------------------------------\u001b[0m",
            "\u001b[0;31mTypeError\u001b[0m                                 Traceback (most recent call last)",
            "\u001b[0;32m<ipython-input-50-46d906157b50>\u001b[0m in \u001b[0;36m<module>\u001b[0;34m()\u001b[0m\n\u001b[0;32m----> 1\u001b[0;31m \u001b[0mprofile\u001b[0m \u001b[0;34m=\u001b[0m \u001b[0mProfileReport\u001b[0m\u001b[0;34m(\u001b[0m\u001b[0mdf\u001b[0m\u001b[0;34m)\u001b[0m\u001b[0;34m\u001b[0m\u001b[0;34m\u001b[0m\u001b[0m\n\u001b[0m\u001b[1;32m      2\u001b[0m \u001b[0mprofile\u001b[0m\u001b[0;34m.\u001b[0m\u001b[0mto_notebook_iframe\u001b[0m\u001b[0;34m(\u001b[0m\u001b[0;34m)\u001b[0m\u001b[0;34m\u001b[0m\u001b[0;34m\u001b[0m\u001b[0m\n",
            "\u001b[0;32m/usr/local/lib/python3.6/dist-packages/pandas_profiling/__init__.py\u001b[0m in \u001b[0;36m__init__\u001b[0;34m(self, df, **kwargs)\u001b[0m\n\u001b[1;32m     64\u001b[0m         \u001b[0msample\u001b[0m \u001b[0;34m=\u001b[0m \u001b[0mkwargs\u001b[0m\u001b[0;34m.\u001b[0m\u001b[0mget\u001b[0m\u001b[0;34m(\u001b[0m\u001b[0;34m'sample'\u001b[0m\u001b[0;34m,\u001b[0m \u001b[0mdf\u001b[0m\u001b[0;34m.\u001b[0m\u001b[0mhead\u001b[0m\u001b[0;34m(\u001b[0m\u001b[0;34m)\u001b[0m\u001b[0;34m)\u001b[0m\u001b[0;34m\u001b[0m\u001b[0;34m\u001b[0m\u001b[0m\n\u001b[1;32m     65\u001b[0m \u001b[0;34m\u001b[0m\u001b[0m\n\u001b[0;32m---> 66\u001b[0;31m         \u001b[0mdescription_set\u001b[0m \u001b[0;34m=\u001b[0m \u001b[0mdescribe\u001b[0m\u001b[0;34m(\u001b[0m\u001b[0mdf\u001b[0m\u001b[0;34m,\u001b[0m \u001b[0;34m**\u001b[0m\u001b[0mkwargs\u001b[0m\u001b[0;34m)\u001b[0m\u001b[0;34m\u001b[0m\u001b[0;34m\u001b[0m\u001b[0m\n\u001b[0m\u001b[1;32m     67\u001b[0m \u001b[0;34m\u001b[0m\u001b[0m\n\u001b[1;32m     68\u001b[0m         self.html = to_html(sample,\n",
            "\u001b[0;32m/usr/local/lib/python3.6/dist-packages/pandas_profiling/describe.py\u001b[0m in \u001b[0;36mdescribe\u001b[0;34m(df, bins, check_correlation, correlation_threshold, correlation_overrides, check_recoded, pool_size, **kwargs)\u001b[0m\n\u001b[1;32m    390\u001b[0m             \u001b[0;32mif\u001b[0m \u001b[0mname\u001b[0m \u001b[0;32mnot\u001b[0m \u001b[0;32min\u001b[0m \u001b[0mnames\u001b[0m\u001b[0;34m:\u001b[0m\u001b[0;34m\u001b[0m\u001b[0;34m\u001b[0m\u001b[0m\n\u001b[1;32m    391\u001b[0m                 \u001b[0mnames\u001b[0m\u001b[0;34m.\u001b[0m\u001b[0mappend\u001b[0m\u001b[0;34m(\u001b[0m\u001b[0mname\u001b[0m\u001b[0;34m)\u001b[0m\u001b[0;34m\u001b[0m\u001b[0;34m\u001b[0m\u001b[0m\n\u001b[0;32m--> 392\u001b[0;31m     \u001b[0mvariable_stats\u001b[0m \u001b[0;34m=\u001b[0m \u001b[0mpd\u001b[0m\u001b[0;34m.\u001b[0m\u001b[0mconcat\u001b[0m\u001b[0;34m(\u001b[0m\u001b[0mldesc\u001b[0m\u001b[0;34m,\u001b[0m \u001b[0mjoin_axes\u001b[0m\u001b[0;34m=\u001b[0m\u001b[0mpd\u001b[0m\u001b[0;34m.\u001b[0m\u001b[0mIndex\u001b[0m\u001b[0;34m(\u001b[0m\u001b[0;34m[\u001b[0m\u001b[0mnames\u001b[0m\u001b[0;34m]\u001b[0m\u001b[0;34m)\u001b[0m\u001b[0;34m,\u001b[0m \u001b[0maxis\u001b[0m\u001b[0;34m=\u001b[0m\u001b[0;36m1\u001b[0m\u001b[0;34m)\u001b[0m\u001b[0;34m\u001b[0m\u001b[0;34m\u001b[0m\u001b[0m\n\u001b[0m\u001b[1;32m    393\u001b[0m     \u001b[0mvariable_stats\u001b[0m\u001b[0;34m.\u001b[0m\u001b[0mcolumns\u001b[0m\u001b[0;34m.\u001b[0m\u001b[0mnames\u001b[0m \u001b[0;34m=\u001b[0m \u001b[0mdf\u001b[0m\u001b[0;34m.\u001b[0m\u001b[0mcolumns\u001b[0m\u001b[0;34m.\u001b[0m\u001b[0mnames\u001b[0m\u001b[0;34m\u001b[0m\u001b[0;34m\u001b[0m\u001b[0m\n\u001b[1;32m    394\u001b[0m \u001b[0;34m\u001b[0m\u001b[0m\n",
            "\u001b[0;31mTypeError\u001b[0m: concat() got an unexpected keyword argument 'join_axes'"
          ]
        }
      ]
    },
    {
      "cell_type": "code",
      "metadata": {
        "id": "5Ry4mvGuom79",
        "colab_type": "code",
        "colab": {}
      },
      "source": [
        "columns={'Data do Acidente': 'data_acidente',\n",
        "    'Tipo de via': 'tipo_via',\n",
        "    'Hora do Acidente': 'hora_acidente',\n",
        "    'Município': 'municipio',\n",
        "    'Logradouro': 'logradouro',\n",
        "    'LAT_(GEO)': 'lat',\n",
        "    'LONG_(GEO)': 'lon',\n",
        "    'Tipo do veículo da vítima': 'tipo_veiculo',\n",
        "    'Tipo de vítima': 'tipo_vitima',\n",
        "    'Tipo de acidente': 'tipo_acidente',\n",
        "    'Tempo entre o Acidente e o óbito': 'tempo_acidente_obito',\n",
        "    'Sexo': 'sexo',\n",
        "    'Idade da vítima': 'idade',\n",
        "    'Outro Veículo Envolvido': 'outro_veiculo_envolvido',\n",
        "    'Faixa etária': 'faixa_etaria'  }"
      ],
      "execution_count": 0,
      "outputs": []
    },
    {
      "cell_type": "code",
      "metadata": {
        "id": "NURdsCFzo4ql",
        "colab_type": "code",
        "colab": {}
      },
      "source": [
        "df = df.rename(columns, axis=1)"
      ],
      "execution_count": 0,
      "outputs": []
    },
    {
      "cell_type": "code",
      "metadata": {
        "id": "I8JKUBVOo96e",
        "colab_type": "code",
        "colab": {}
      },
      "source": [
        "df = df[list(columns.values())]"
      ],
      "execution_count": 0,
      "outputs": []
    },
    {
      "cell_type": "code",
      "metadata": {
        "id": "PoYEk92oo_V7",
        "colab_type": "code",
        "outputId": "7dc4a3f9-cec2-4b36-a2f6-90f8a66a34df",
        "colab": {
          "base_uri": "https://localhost:8080/",
          "height": 275
        }
      },
      "source": [
        "df.head()"
      ],
      "execution_count": 0,
      "outputs": [
        {
          "output_type": "execute_result",
          "data": {
            "text/html": [
              "<div>\n",
              "<style scoped>\n",
              "    .dataframe tbody tr th:only-of-type {\n",
              "        vertical-align: middle;\n",
              "    }\n",
              "\n",
              "    .dataframe tbody tr th {\n",
              "        vertical-align: top;\n",
              "    }\n",
              "\n",
              "    .dataframe thead th {\n",
              "        text-align: right;\n",
              "    }\n",
              "</style>\n",
              "<table border=\"1\" class=\"dataframe\">\n",
              "  <thead>\n",
              "    <tr style=\"text-align: right;\">\n",
              "      <th></th>\n",
              "      <th>data_acidente</th>\n",
              "      <th>tipo_via</th>\n",
              "      <th>hora_acidente</th>\n",
              "      <th>municipio</th>\n",
              "      <th>logradouro</th>\n",
              "      <th>lat</th>\n",
              "      <th>lon</th>\n",
              "      <th>tipo_veiculo</th>\n",
              "      <th>tipo_vitima</th>\n",
              "      <th>tipo_acidente</th>\n",
              "      <th>tempo_acidente_obito</th>\n",
              "      <th>sexo</th>\n",
              "      <th>idade</th>\n",
              "      <th>outro_veiculo_envolvido</th>\n",
              "      <th>faixa_etaria</th>\n",
              "    </tr>\n",
              "  </thead>\n",
              "  <tbody>\n",
              "    <tr>\n",
              "      <th>0</th>\n",
              "      <td>2020-04-30</td>\n",
              "      <td>Rodovias</td>\n",
              "      <td>17:30:00</td>\n",
              "      <td>ARACARIGUAMA</td>\n",
              "      <td>SP 280</td>\n",
              "      <td>-23.439186</td>\n",
              "      <td>-47.065945</td>\n",
              "      <td>ONIBUS</td>\n",
              "      <td>CONDUTOR</td>\n",
              "      <td>CHOQUE</td>\n",
              "      <td>Mesmo dia</td>\n",
              "      <td>MASCULINO</td>\n",
              "      <td>48.0</td>\n",
              "      <td>ONIBUS</td>\n",
              "      <td>45-49</td>\n",
              "    </tr>\n",
              "    <tr>\n",
              "      <th>1</th>\n",
              "      <td>2020-04-30</td>\n",
              "      <td>Rodovias</td>\n",
              "      <td>17:30:00</td>\n",
              "      <td>ARACARIGUAMA</td>\n",
              "      <td>SP 280</td>\n",
              "      <td>-23.439186</td>\n",
              "      <td>-47.065945</td>\n",
              "      <td>ONIBUS</td>\n",
              "      <td>PASSAGEIRO</td>\n",
              "      <td>CHOQUE</td>\n",
              "      <td>Mesmo dia</td>\n",
              "      <td>MASCULINO</td>\n",
              "      <td>36.0</td>\n",
              "      <td>ONIBUS</td>\n",
              "      <td>35-39</td>\n",
              "    </tr>\n",
              "    <tr>\n",
              "      <th>2</th>\n",
              "      <td>2020-04-17</td>\n",
              "      <td>Rodovias</td>\n",
              "      <td>3:50:00</td>\n",
              "      <td>SAO JOSE DO RIO PRETO</td>\n",
              "      <td>BR 153</td>\n",
              "      <td>-20.772532</td>\n",
              "      <td>-49.350863</td>\n",
              "      <td>MOTOCICLETA</td>\n",
              "      <td>CONDUTOR</td>\n",
              "      <td>CHOQUE</td>\n",
              "      <td>Até 30 dias</td>\n",
              "      <td>MASCULINO</td>\n",
              "      <td>26.0</td>\n",
              "      <td>NÃO HÁ</td>\n",
              "      <td>25-29</td>\n",
              "    </tr>\n",
              "    <tr>\n",
              "      <th>3</th>\n",
              "      <td>2020-04-30</td>\n",
              "      <td>Rodovias</td>\n",
              "      <td>18:30:00</td>\n",
              "      <td>SUZANO</td>\n",
              "      <td>SP 021</td>\n",
              "      <td>-23.566580</td>\n",
              "      <td>-46.342199</td>\n",
              "      <td>PEDESTRE</td>\n",
              "      <td>PEDESTRE</td>\n",
              "      <td>ATROPELAMENTO</td>\n",
              "      <td>Mesmo dia</td>\n",
              "      <td>MASCULINO</td>\n",
              "      <td>NaN</td>\n",
              "      <td>AUTOMOVEL</td>\n",
              "      <td>NAO DISPONIVEL</td>\n",
              "    </tr>\n",
              "    <tr>\n",
              "      <th>4</th>\n",
              "      <td>2020-04-30</td>\n",
              "      <td>Vias Municipais</td>\n",
              "      <td>17:50:00</td>\n",
              "      <td>LIMEIRA</td>\n",
              "      <td>RUA ITAPEMA</td>\n",
              "      <td>-22.552483</td>\n",
              "      <td>-47.405759</td>\n",
              "      <td>BICICLETA</td>\n",
              "      <td>CONDUTOR</td>\n",
              "      <td>CHOQUE</td>\n",
              "      <td>Mesmo dia</td>\n",
              "      <td>FEMININO</td>\n",
              "      <td>30.0</td>\n",
              "      <td>NÃO HÁ</td>\n",
              "      <td>30-34</td>\n",
              "    </tr>\n",
              "  </tbody>\n",
              "</table>\n",
              "</div>"
            ],
            "text/plain": [
              "  data_acidente         tipo_via  ... outro_veiculo_envolvido    faixa_etaria\n",
              "0    2020-04-30         Rodovias  ...                  ONIBUS           45-49\n",
              "1    2020-04-30         Rodovias  ...                  ONIBUS           35-39\n",
              "2    2020-04-17         Rodovias  ...                  NÃO HÁ           25-29\n",
              "3    2020-04-30         Rodovias  ...               AUTOMOVEL  NAO DISPONIVEL\n",
              "4    2020-04-30  Vias Municipais  ...                  NÃO HÁ           30-34\n",
              "\n",
              "[5 rows x 15 columns]"
            ]
          },
          "metadata": {
            "tags": []
          },
          "execution_count": 56
        }
      ]
    },
    {
      "cell_type": "code",
      "metadata": {
        "id": "VK0WJVUppGfq",
        "colab_type": "code",
        "outputId": "557c0b78-bb37-4f5a-dca4-2b45d0072b78",
        "colab": {
          "base_uri": "https://localhost:8080/",
          "height": 170
        }
      },
      "source": [
        "df.tipo_veiculo.value_counts()"
      ],
      "execution_count": 0,
      "outputs": [
        {
          "output_type": "execute_result",
          "data": {
            "text/plain": [
              "MOTOCICLETA       10026\n",
              "PEDESTRE           8163\n",
              "AUTOMOVEL          7518\n",
              "BICICLETA          1959\n",
              "NAO DISPONIVEL     1529\n",
              "CAMINHAO            935\n",
              "ONIBUS              255\n",
              "OUTROS              186\n",
              "Name: tipo_veiculo, dtype: int64"
            ]
          },
          "metadata": {
            "tags": []
          },
          "execution_count": 57
        }
      ]
    },
    {
      "cell_type": "code",
      "metadata": {
        "id": "gxPMzWh4ppFh",
        "colab_type": "code",
        "outputId": "8def69ca-ea00-4d0f-f655-1a57ff59aefc",
        "colab": {
          "base_uri": "https://localhost:8080/",
          "height": 71
        }
      },
      "source": [
        "import seaborn as sns\n",
        "import matplotlib.pyplot as plt"
      ],
      "execution_count": 0,
      "outputs": [
        {
          "output_type": "stream",
          "text": [
            "/usr/local/lib/python3.6/dist-packages/statsmodels/tools/_testing.py:19: FutureWarning: pandas.util.testing is deprecated. Use the functions in the public API at pandas.testing instead.\n",
            "  import pandas.util.testing as tm\n"
          ],
          "name": "stderr"
        }
      ]
    },
    {
      "cell_type": "code",
      "metadata": {
        "id": "A__FIgvfqbw1",
        "colab_type": "code",
        "outputId": "7d2e68c4-82f8-42bf-fb45-2c01a0699d03",
        "colab": {
          "base_uri": "https://localhost:8080/",
          "height": 583
        }
      },
      "source": [
        "sns.countplot(df.tipo_veiculo)\n",
        "plt.xticks(rotation=45,horizontalalignment='right')"
      ],
      "execution_count": 0,
      "outputs": [
        {
          "output_type": "execute_result",
          "data": {
            "text/plain": [
              "(array([0, 1, 2, 3, 4, 5, 6, 7]), <a list of 8 Text major ticklabel objects>)"
            ]
          },
          "metadata": {
            "tags": []
          },
          "execution_count": 61
        },
        {
          "output_type": "display_data",
          "data": {
            "image/png": "[encoded data removed]",
            "text/plain": [
              "<Figure size 800x550 with 1 Axes>"
            ]
          },
          "metadata": {
            "tags": []
          }
        }
      ]
    },
    {
      "cell_type": "code",
      "metadata": {
        "id": "y4D1F83Crvex",
        "colab_type": "code",
        "outputId": "111680fb-c8cb-40fe-aeb4-93a1f86ea55d",
        "colab": {
          "base_uri": "https://localhost:8080/",
          "height": 506
        }
      },
      "source": [
        "plt.scatter(df.lon,df.lat, s=1)"
      ],
      "execution_count": 0,
      "outputs": [
        {
          "output_type": "execute_result",
          "data": {
            "text/plain": [
              "<matplotlib.collections.PathCollection at 0x7f7e87d00b00>"
            ]
          },
          "metadata": {
            "tags": []
          },
          "execution_count": 64
        },
        {
          "output_type": "display_data",
          "data": {
            "image/png": "[encoded data removed]",
            "text/plain": [
              "<Figure size 800x550 with 1 Axes>"
            ]
          },
          "metadata": {
            "tags": []
          }
        }
      ]
    }
  ]
}